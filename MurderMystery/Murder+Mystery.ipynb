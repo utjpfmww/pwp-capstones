{
 "cells": [
  {
   "cell_type": "markdown",
   "metadata": {},
   "source": [
    "# Preamble: A Brand new Jay\n",
    "\n",
    "After an eventful season on season 8 of *A Brand New Jay*, the 3 remaining contestants were invited to Jay Stacksby's private island for the last three episodes. When the day of filming the finale came Mr. Stacksby was found with one of his Professional Series 8-inch Chef Knives plunged through his heart! After the initial investigation highlighted that the film crew all lived in a separate house on the other side of the island, it was concluded that only the three contestants were near enough to Stacksby in order to commit a crime. At the scene of the crime, a letter was left. Here are the contents of that letter:\n",
    "\n",
    "> You may call me heartless, a killer, a monster, a murderer, but I'm still NOTHING compared to the villian that Jay was. This whole contest was a sham, an elaborate plot to shame the contestants and feed Jay's massive, massive ego. SURE you think you know him! You've seen him smiling for the cameras, laughing, joking, telling stories, waving his money around like a prop but off camera he was a sinister beast, a cruel cruel taskmaster, he treated all of us like slaves, like cattle, like animals! Do you remember Lindsay, she was the first to go, he called her such horrible things that she cried all night, keeping up all up, crying, crying, and more crying, he broke her with his words. I miss my former cast members, all of them very much. And we had to live with him, live in his home, live in his power, deal with his crazy demands. AND FOR WHAT! DID YOU KNOW THAT THE PRIZE ISN'T REAL? He never intended to marry one of us! The carrot on the stick was gone, all that was left was stick, he told us last night that we were all a terrible terrible disappointment and none of us would ever amount to anything, and that regardless of who won the contest he would never speak to any of us again! It's definitely the things like this you can feel in your gut how wrong he is! Well I showed him, he got what he deserved all right, I showed him, I showed him the person I am! I wasn't going to be pushed around any longer, and I wasn't going to let him go on pretending that he was some saint when all he was was a sick sick twisted man who deserved every bit of what he got. The fans need to know, Jay Stacksby is a vile amalgamation of all things evil and bad and the world is a better place without him.\n",
    "\n",
    "Pretty sinister stuff! Luckily, in addition to this bold-faced admission, we have the introduction letters of the three contestants. Maybe there is a way to use this information to determine who the author of this murder letter is?\n",
    "\n",
    "Myrtle Beech's introduction letter:\n",
    "> Salutations. My name? Myrtle. Myrtle Beech. I am a woman of simple tastes. I enjoy reading, thinking, and doing my taxes. I entered this competition because I want a serious relationship. I want a commitment. The last man I dated was too whimsical. He wanted to go on dates that had no plan. No end goal. Sometimes we would just end up wandering the streets after dinner. He called it a \"walk\". A \"walk\" with no destination. Can you imagine? I like every action I take to have a measurable effect. When I see a movie, I like to walk away with insights that I did not have before. When I take a bike ride, there better be a worthy destination at the end of the bike path. Jay seems frivolous at times. This worries me. However, it is my staunch belief that one does not make and keep money without having a modicum of discipline. As such, I am hopeful. I will now list three things I cannot live without. Water. Emery boards. Dogs. Thank you for the opportunity to introduce myself. I look forward to the competition. \n",
    "\n",
    "Lily Trebuchet's introduction letter:\n",
    "> Hi, I'm Lily Trebuchet from East Egg, Long Island. I love cats, hiking, and curling up under a warm blanket with a book. So they gave this little questionnaire to use for our bios so lets get started. What are some of my least favorite household chores? Dishes, oh yes it's definitely the dishes, I just hate doing them, don't you? Who is your favorite actor and why? Hmm, that's a hard one, but I think recently I'll have to go with Michael B. Jordan, every bit of that man is handsome, HANDSOME! Do you remember seeing him shirtless? I can't believe what he does for the cameras! Okay okay next question, what is your perfect date? Well it starts with a nice dinner at a delicious but small restaurant, you know like one of those places where the owner is in the back and comes out to talk to you and ask you how your meal was. My favorite form of art? Another hard one, but I think I'll have to go with music, music you can feel in your whole body and it is electrifying and best of all, you can dance to it! Okay final question, let's see, What are three things you cannot live without? Well first off, my beautiful, beautiful cat Jerry, he is my heart and spirit animal. Second is pasta, definitely pasta, and the third I think is my family, I love all of them very much and they support me in everything I do. I know Jay Stacksby is a handsome man and all of us want to be the first to walk down the aisle with him, but I think he might truly be the one for me. Okay that's it for the bio, I hope you have fun watching the show! \n",
    "\n",
    "Gregg T Fishy's introduction letter:\n",
    "\n",
    "> A most good day to you all, I am Gregg T Fishy, of the Fishy Enterprise fortune. I am 37 years young, an adventurous spirit and I've never lost my sense of childlike wonder. I do love to be in the backyard gardening and I have the most extraordinary time when I'm fishing. Fishing for what, you might find yourself asking? Why, I happen to always be fishing for compliments of course! I have a stunning pair of radiant blue eyes that will pierce the soul of anyone who dare gaze upon my countenance. I quite enjoy going on long jaunts through garden paths and short walks through greenhouses. I hope that Jay will be as absolutely interesting as he appears on the television, I find that he has some of the most curious tastes in style and humor. When I'm out and about I quite enjoy hearing tales that instill in my heart of hearts the fascination that beguiles my every day life, every fiber of my being scintillates and vascillates with extreme pleasure during one of these charming anecdotes and significantly pleases my beautiful personage. I cannot wait to enjoy being on the television program A Jay To Remember, it certainly seems like a grand time to explore life and love."
   ]
  },
  {
   "cell_type": "markdown",
   "metadata": {},
   "source": [
    "## Saving The Different Examples as Variables\n",
    "\n",
    "First let's create variables to hold the text data in! Save the muder note as a string in a variable called `murder_note`. Save Lily Trebuchet's introduction into `lily_trebuchet_intro`. Save Myrtle Beech's introduction into `myrtle_beech_intro`. Save Gregg T Fishy's introduction into `gregg_t_fishy_intro`."
   ]
  },
  {
   "cell_type": "code",
   "execution_count": 39,
   "metadata": {},
   "outputs": [
    {
     "name": "stdout",
     "output_type": "stream",
     "text": [
      " : 1030\n",
      "!: 12\n",
      "\": 4\n",
      "': 19\n",
      ",: 73\n",
      ".: 49\n",
      "3: 1\n",
      "7: 1\n",
      "?: 11\n",
      "A: 11\n",
      "B: 2\n",
      "C: 1\n",
      "D: 8\n",
      "E: 9\n",
      "F: 4\n",
      "G: 2\n",
      "H: 11\n",
      "I: 58\n",
      "J: 9\n",
      "K: 1\n",
      "L: 4\n",
      "M: 6\n",
      "N: 7\n",
      "O: 8\n",
      "P: 1\n",
      "R: 5\n",
      "S: 9\n",
      "T: 15\n",
      "U: 2\n",
      "W: 13\n",
      "Y: 3\n",
      "Z: 1\n",
      "a: 350\n",
      "b: 57\n",
      "c: 85\n",
      "d: 131\n",
      "e: 479\n",
      "f: 84\n",
      "g: 92\n",
      "h: 234\n",
      "i: 294\n",
      "j: 8\n",
      "k: 57\n",
      "l: 189\n",
      "m: 131\n",
      "n: 275\n",
      "o: 304\n",
      "p: 53\n",
      "q: 5\n",
      "r: 198\n",
      "s: 260\n",
      "t: 375\n",
      "u: 121\n",
      "v: 52\n",
      "w: 95\n",
      "x: 5\n",
      "y: 112\n",
      "z: 2\n"
     ]
    }
   ],
   "source": [
    "murder_note = \"\"\"You may call me heartless, a killer, a monster, a murderer, but I'm still NOTHING compared to the villian that Jay was. This whole contest was a sham, an elaborate plot to shame the contestants and feed Jay's massive, massive ego. SURE you think you know him! You've seen him smiling for the cameras, laughing, joking, telling stories, waving his money around like a prop but off camera he was a sinister beast, a cruel cruel taskmaster, he treated all of us like slaves, like cattle, like animals! Do you remember Lindsay, she was the first to go, he called her such horrible things that she cried all night, keeping up all up, crying, crying, and more crying, he broke her with his words. I miss my former cast members, all of them very much. And we had to live with him, live in his home, live in his power, deal with his crazy demands. AND FOR WHAT! DID YOU KNOW THAT THE PRIZE ISN'T REAL? He never intended to marry one of us! The carrot on the stick was gone, all that was left was stick, he told us last night that we were all a terrible terrible disappointment and none of us would ever amount to anything, and that regardless of who won the contest he would never speak to any of us again! It's definitely the things like this you can feel in your gut how wrong he is! Well I showed him, he got what he deserved all right, I showed him, I showed him the person I am! I wasn't going to be pushed around any longer, and I wasn't going to let him go on pretending that he was some saint when all he was was a sick sick twisted man who deserved every bit of what he got. The fans need to know, Jay Stacksby is a vile amalgamation of all things evil and bad and the world is a better place without him.\"\"\"\n",
    "lily_trebuchet_intro = \"\"\"Hi, I'm Lily Trebuchet from East Egg, Long Island. I love cats, hiking, and curling up under a warm blanket with a book. So they gave this little questionnaire to use for our bios so lets get started. What are some of my least favorite household chores? Dishes, oh yes it's definitely the dishes, I just hate doing them, don't you? Who is your favorite actor and why? Hmm, that's a hard one, but I think recently I'll have to go with Michael B. Jordan, every bit of that man is handsome, HANDSOME! Do you remember seeing him shirtless? I can't believe what he does for the cameras! Okay okay next question, what is your perfect date? Well it starts with a nice dinner at a delicious but small restaurant, you know like one of those places where the owner is in the back and comes out to talk to you and ask you how your meal was. My favorite form of art? Another hard one, but I think I'll have to go with music, music you can feel in your whole body and it is electrifying and best of all, you can dance to it! Okay final question, let's see, What are three things you cannot live without? Well first off, my beautiful, beautiful cat Jerry, he is my heart and spirit animal. Second is pasta, definitely pasta, and the third I think is my family, I love all of them very much and they support me in everything I do. I know Jay Stacksby is a handsome man and all of us want to be the first to walk down the aisle with him, but I think he might truly be the one for me. Okay that's it for the bio, I hope you have fun watching the show!\"\"\"\n",
    "myrtle_beech_intro = \"\"\"Salutations. My name? Myrtle. Myrtle Beech. I am a woman of simple tastes. I enjoy reading, thinking, and doing my taxes. I entered this competition because I want a serious relationship. I want a commitment. The last man I dated was too whimsical. He wanted to go on dates that had no plan. No end goal. Sometimes we would just end up wandering the streets after dinner. He called it a \"walk\". A \"walk\" with no destination. Can you imagine? I like every action I take to have a measurable effect. When I see a movie, I like to walk away with insights that I did not have before. When I take a bike ride, there better be a worthy destination at the end of the bike path. Jay seems frivolous at times. This worries me. However, it is my staunch belief that one does not make and keep money without having a modicum of discipline. As such, I am hopeful. I will now list three things I cannot live without. Water. Emery boards. Dogs. Thank you for the opportunity to introduce myself. I look forward to the competition.\"\"\"\n",
    "gregg_t_fishy_intro = \"\"\"A most good day to you all, I am Gregg T Fishy, of the Fishy Enterprise fortune. I am 37 years young, an adventurous spirit and I've never lost my sense of childlike wonder. I do love to be in the backyard gardening and I have the most extraordinary time when I'm fishing. Fishing for what, you might find yourself asking? Why, I happen to always be fishing for compliments of course! I have a stunning pair of radiant blue eyes that will pierce the soul of anyone who dare gaze upon my countenance. I quite enjoy going on long jaunts through garden paths and short walks through greenhouses. I hope that Jay will be as absolutely interesting as he appears on the television, I find that he has some of the most curious tastes in style and humor. When I'm out and about I quite enjoy hearing tales that instill in my heart of hearts the fascination that beguiles my every day life, every fiber of my being scintillates and vascillates with extreme pleasure during one of these charming anecdotes and significantly pleases my beautiful personage. I cannot wait to enjoy being on the television program A Jay To Remember, it certainly seems like a grand time to explore life and love.\"\"\"\n",
    "\n",
    "\n",
    "def print_character_frequency_table(notes):    \n",
    "    \"\"\"Prints a frequency table from all the characters used in all the notes.\"\"\"\n",
    "    characters = {}\n",
    "    for note in notes:\n",
    "        for letter in note:\n",
    "            if letter in characters:\n",
    "                characters[letter] += 1\n",
    "            else:\n",
    "                characters[letter] = 1\n",
    "    # By default sorted(...) sorts by key.\n",
    "    for key, value in sorted(characters.items()):\n",
    "        print(\"{}: {}\".format(key, value))\n",
    "\n",
    "\n",
    "# Print character frequency table so we can reason about what issues\n",
    "# we might run into when operating on the differet inputs later.\n",
    "print_character_frequency_table([murder_note, lily_trebuchet_intro, myrtle_beech_intro, gregg_t_fishy_intro])"
   ]
  },
  {
   "cell_type": "markdown",
   "metadata": {},
   "source": [
    "## The First Indicator: Sentence Length\n",
    "\n",
    "Perhaps some meaningful data can first be gleaned from these text examples if we measure how long the average sentence length is. Different authors have different patterns of written speech, so this could be very useful in tracking down the killer.\n",
    "\n",
    "Write a function `get_average_sentence_length` that takes some `text` as an argument. This function should return the average length of a sentence in the text.\n",
    "\n",
    "Hint (highlight this hint in order to reveal it): \n",
    "<font color=\"white\">Use your knowledge of _string methods_ to create a list of all of the sentences in a text, called **sentences_in_text**. \n",
    "Further break up each **sentences_in_text** into a list of words and save the _length_ of that list of words to a new list that contains all the sentence lengths, called **sentence_lengths**. Take the average of all of the sentence lengths by adding them all together and dividing by the number of sentences (which should be the same as the length of the **sentence_lengths**).\n",
    "\n",
    "Remember sentences can end with more than one kind of punctuation, you might find it easiest to use **.replace()** so you only have to split on one punctuation mark. Remember **.replace()** doesn't modify the string itself, it returns a new string!</font>"
   ]
  },
  {
   "cell_type": "code",
   "execution_count": 40,
   "metadata": {},
   "outputs": [
    {
     "name": "stdout",
     "output_type": "stream",
     "text": [
      "4.0\n",
      "1.5\n"
     ]
    }
   ],
   "source": [
    "def get_average_sentence_length(text):\n",
    "    \"\"\"Returns the average sentence length of non-empty words and non-empty sentences.\"\"\"\n",
    "    word_count = 0\n",
    "    simple_punctuation = text.replace(\"!\", \".\").replace(\"?\", \".\")\n",
    "    # Strip out empty entries, such as after the last punctuation.\n",
    "    sentences = filter(None, simple_punctuation.split(\".\"))\n",
    "    # Note: We can not use len(list(sentences)) here, because that would\n",
    "    # leave it empty and not possible to use as an iterator below.\n",
    "    sentence_count = 0\n",
    "    for sentence in sentences:\n",
    "        sentence_count += 1\n",
    "        # Filter out empty words (could happen with double space).\n",
    "        # This is technically unnecessary in the input, but it feels weird\n",
    "        # not to implement this correctly, so stripping empty words.\n",
    "        word_count += len(list(filter(None, sentence.strip().split(\" \"))))\n",
    "    return word_count / sentence_count\n",
    "\n",
    "\n",
    "# Should be (3 + 3 + 8 + 2 + 4) / 5 = 4\n",
    "my_sentence1 = \"Hello, my friend! Who are you? And what are you doing in my backyard? Also, goodbye. You are my friend.\"\n",
    "print(get_average_sentence_length(my_sentence1))\n",
    "\n",
    "# Should be (1 + 2) / 2 = 1.5\n",
    "my_sentence2 = \"Hello. You too.\"\n",
    "print(get_average_sentence_length(my_sentence2))"
   ]
  },
  {
   "cell_type": "markdown",
   "metadata": {},
   "source": [
    "## Creating The Definition for Our Model\n",
    "\n",
    "Now that we have a metric we want to save and data that is coupled with that metric, it might be time to create our data type. Let's define a class called `TextSample` with a constructor. The constructor should take two arguments: `text` and `author`. `text` should be saved as `self.raw_text`. Call `get_average_sentence_length` with the raw text and save it to `self.average_sentence_length`. You should save the author of the text as `self.author`.\n",
    "\n",
    "Additionally, define a string representation for the model. If you print a `TextSample` it should render:\n",
    " - The author's name\n",
    " - The average sentence length\n",
    " \n",
    "This will be your main class for the problem at hand. All later instruction to update `TextSample` should be done in the code block below. After updating `TextSample`, click on the `Cell` option in the Jupyter Notebook main menu above, then click `Run All` to rerun the cells from top to bottom. If you need to restart your Jupyter Notebook either run the cells below first or move the `TextSample` class definition & instantiation cells to the bottom."
   ]
  },
  {
   "cell_type": "code",
   "execution_count": 41,
   "metadata": {},
   "outputs": [
    {
     "name": "stdout",
     "output_type": "stream",
     "text": [
      "Author: Foo Bar Text Length: 4.0\n",
      "Author: Yo Da Text Length: 4.0\n",
      "(Author: Foo Bar Text Length: 4.0, Author: Yo Da Text Length: 4.0)\n"
     ]
    }
   ],
   "source": [
    "class TextSample():\n",
    "    def __init__(self, text, author):\n",
    "        self.raw_text = text\n",
    "        self.author = author\n",
    "        self.average_sentence_length = get_average_sentence_length(text)\n",
    "        self.prepared_text = prepare_text(text)\n",
    "        self.word_count_frequency = build_frequency_table(self.prepared_text)\n",
    "        self.ngram_frequency = build_frequency_table(ngram_creator(self.prepared_text))\n",
    "\n",
    "    def __repr__(self):\n",
    "        \"\"\"String representation of the object.\"\"\"\n",
    "        # Note, that since only __repr__ is defined, and not __str__, then __str__\n",
    "        # will return the same value as __repr__. Since __repr__ is used for contained objects\n",
    "        # when printing a container, it makes sense to have it defined for this class.\n",
    "        return \"Author: {} Text Length: {}\".format(self.author, self.average_sentence_length)\n",
    "\n",
    "\n",
    "sample1 = TextSample(\"This is my text.\", \"Foo Bar\")\n",
    "sample2 = TextSample(\"Text, this is my.\", \"Yo Da\")\n",
    "print(sample1)\n",
    "print(sample2)\n",
    "# Also ensure TextSample is printed in a user-friendly way in containers.\n",
    "print((sample1, sample2))"
   ]
  },
  {
   "cell_type": "markdown",
   "metadata": {},
   "source": [
    "### Creating our TextSample Instances\n",
    "\n",
    "Now create a `TextSample` object for each of the samples of text that we have.\n",
    " - `murderer_sample` for the murderer's note.\n",
    " - `lily_sample` for Lily Trebuchet's note.\n",
    " - `myrtle_sample` for Myrtle Beech's note.\n",
    " - `gregg_sample` for Gregg T Fishy's note.\n",
    " \n",
    "Print out each one after instantiating them."
   ]
  },
  {
   "cell_type": "code",
   "execution_count": 42,
   "metadata": {},
   "outputs": [],
   "source": [
    "murder_sample = TextSample(murder_note, \"murderer\")\n",
    "lily_sample = TextSample(lily_trebuchet_intro, \"Lily Trebuchet\")\n",
    "myrtle_sample = TextSample(myrtle_beech_intro, \"Myrtle Beech\")\n",
    "gregg_sample = TextSample(gregg_t_fishy_intro, \"Gregg T Fishy\")"
   ]
  },
  {
   "cell_type": "markdown",
   "metadata": {},
   "source": [
    "## Cleaning Our Data\n",
    "\n",
    "We want to compare the word choice and usage between the samples, but sentences make our text data fairly messy. In order to analyze the different messages fairly, we'll need to remove all the punctuation and uppercase letters from the samples.\n",
    "\n",
    "Create a function called `prepare_text` that takes a single parameter `text`, makes the text entirely lowercase, removes all the punctuation and returns a list of the words in the text in order.\n",
    "\n",
    "For example: `\"Where did you go, friend? We nearly saw each other.\"` would become `['where', 'did', 'you', 'go', 'friend', 'we', 'nearly', 'saw', 'each', 'other']`."
   ]
  },
  {
   "cell_type": "code",
   "execution_count": 43,
   "metadata": {},
   "outputs": [
    {
     "name": "stdout",
     "output_type": "stream",
     "text": [
      "['where', 'did', 'you', 'go', 'friend', 'we', 'nearly', '\"saw\"', 'each', 'other', 'friend', 'yes', 'you', 'or', 'no', 'friend']\n"
     ]
    }
   ],
   "source": [
    "def prepare_text(text):\n",
    "    \"\"\"Returns a list of all words in the text after removing punctuations characters.\"\"\"\n",
    "    punctuation_chars = \",.!?\"\n",
    "    # Use list comprehension to filter out characters we don't want.\n",
    "    all_chars = [char for char in text.lower() if char not in punctuation_chars]\n",
    "    # Join all characters again into a string, and remove empty words after splitting on space.\n",
    "    return list(filter(None, \"\".join(all_chars).split(\" \")))\n",
    "\n",
    "\n",
    "# We assume |\"saw\"| is not the same word as |saw| here, since it implies a different form of writing style.\n",
    "print(prepare_text(\"\"\"Where did you go, friend? We nearly \"saw\" each other, friend!!  Yes, you. Or no, friend.\"\"\"))"
   ]
  },
  {
   "cell_type": "markdown",
   "metadata": {},
   "source": [
    "Update the constructor for `TextSample` to save the prepared text as `self.prepared_text`."
   ]
  },
  {
   "cell_type": "markdown",
   "metadata": {},
   "source": [
    "## Building A Frequency Table\n",
    "\n",
    "Now we want to see which words were most frequently used in each of the samples. Create a function called `build_frequency_table`. It takes in a list called `corpus` and creates a dictionary called `frequency_table`. For every element in `corpus` the value `frequency_table[element]` should be equal to the number of times that element appears in `corpus`. For example the input `['do', 'you', 'see', 'what', 'i', 'see']` would create the frequency table `{'what': 1, 'you': 1, 'see' 2, 'i': 1}`."
   ]
  },
  {
   "cell_type": "code",
   "execution_count": 44,
   "metadata": {},
   "outputs": [
    {
     "name": "stdout",
     "output_type": "stream",
     "text": [
      "{'did': 1, 'i': 1, 'friend': 3, 'guess': 1, 'go': 1, '\"saw\"': 1, 'we': 2, 'where': 1, 'no': 1, 'just': 1, 'you': 2, 'other': 2, 'yes': 1, 'each': 2, 'nearly': 1, 'saw': 1, 'or': 1}\n"
     ]
    }
   ],
   "source": [
    "def build_frequency_table(corpus):\n",
    "    \"\"\"Returns a frequency table over the given iterable corpus.\"\"\"\n",
    "    frequency_table = {}\n",
    "    for element in corpus:\n",
    "        if element in frequency_table:\n",
    "            frequency_table[element] += 1\n",
    "        else:\n",
    "            frequency_table[element] = 1\n",
    "    return frequency_table\n",
    "\n",
    "\n",
    "example_text = \"\"\"Where did you go, friend? We nearly saw each other, friend! Yes, you. Or no, friend. I guess we just \"saw\" each other.\"\"\"\n",
    "prepared_example_text = prepare_text(example_text)\n",
    "print(build_frequency_table(prepared_example_text))"
   ]
  },
  {
   "cell_type": "markdown",
   "metadata": {},
   "source": [
    "## The Second Indicator: Favorite Words\n",
    "\n",
    "Use `build_frequency_table` with the prepared text to create a frequency table that counts how frequently all the words in each text sample appears. Call these functions in the constructor for `TextSample` and assign the word frequency table to a value called `self.word_count_frequency`."
   ]
  },
  {
   "cell_type": "markdown",
   "metadata": {},
   "source": [
    "## The Third Indicator: N-Grams\n",
    "\n",
    "An <a href='https://en.wikipedia.org/wiki/N-gram' target=\"_blank\">n-gram</a> is a text analysis technique used for pattern recognition and applicable throughout lingusitics. We're going to use n-grams to find who uses similar word-pairs to the murderer, and we think it's going to make our evidence strong enough to conclusively find the killer.\n",
    "\n",
    "Create a function called `ngram_creator` that takes a parameter `text_list`, a treated in-order list of the words in a text sample. `ngram_creator` should return a list of all adjacent pairs of words, styled as strings with a space in the center.\n",
    "\n",
    "For instance, calling `ngram_creator` with the input `['what', 'in', 'the', 'world', 'is', 'going', 'on']`\n",
    "Should produce the output `['what in', 'in the', 'the world', 'world is', 'is going', 'going on']`.\n",
    "\n",
    "These are two-word n-grams."
   ]
  },
  {
   "cell_type": "code",
   "execution_count": 45,
   "metadata": {},
   "outputs": [
    {
     "name": "stdout",
     "output_type": "stream",
     "text": [
      "['what in', 'in the', 'the world', 'world is', 'is going', 'going on']\n"
     ]
    }
   ],
   "source": [
    "def ngram_creator(text_list):\n",
    "    \"\"\"Returns the 2 N-gram over all the elements in the list.\"\"\"\n",
    "    ngrams = []\n",
    "    # Go through each word except the last word once, since we want to create pairs.\n",
    "    for index in range(len(text_list)-1):\n",
    "        words = text_list[index:index+2]\n",
    "        ngrams.append(\" \".join(words))\n",
    "    return ngrams\n",
    "\n",
    "\n",
    "print(ngram_creator(['what', 'in', 'the', 'world', 'is', 'going', 'on']))"
   ]
  },
  {
   "cell_type": "markdown",
   "metadata": {},
   "source": [
    "Use `ngram_creator` along with the prepared text to create a list of all the two-word ngrams in each `TextSample`. Use `build_frequency_table` to tabulate the frequency of each ngram. In the constructor for `TextSample` save this frequency table as `self.ngram_frequency`."
   ]
  },
  {
   "cell_type": "markdown",
   "metadata": {},
   "source": [
    "## Comparing Two Frequency Tables\n",
    "\n",
    "We want to know how similar two frequency tables are, let's write a function that computes the comparison between two frequency tables and scores them based on similarity.\n",
    "\n",
    "Write a function called `frequency_comparison` that takes two parameters, `table1` and `table2`. It should define two local variables, `appearances` and `mutual_appearances`. \n",
    "\n",
    "Iterate through `table1`'s keys and check if `table2` has the same key defined. If it is, compare the two values for the key -- the smaller value should get added to `mutual_appearances` and the larger should get added to `appearances`. If the key doesn't exist in `table2` the value for the key in `table1` should be added to `appearances`.\n",
    "\n",
    "Remember afterwards to iterate through all of `table2`'s keys that aren't in `table1` and add those to `appearances` as well.\n",
    "\n",
    "Return a frequency comparison score equal to the mutual appearances divided by the total appearances."
   ]
  },
  {
   "cell_type": "code",
   "execution_count": 46,
   "metadata": {},
   "outputs": [
    {
     "name": "stdout",
     "output_type": "stream",
     "text": [
      "0.25\n",
      "0.2222222222222222\n",
      "0.5\n",
      "0.5\n",
      "0.4444444444444444\n",
      "1.0\n"
     ]
    }
   ],
   "source": [
    "def frequency_comparison(table1, table2):\n",
    "    \"\"\"Returns a comparison of two frequency tables.\"\"\"\n",
    "    mutual_appearances = {}\n",
    "    appearances = {}\n",
    "    # Fill in all items from table1.\n",
    "    for word, count in table1.items():\n",
    "        if word in table2:  # A mutual appearance.\n",
    "            if count < table2[word]:  # Lowest value goes to mutual.\n",
    "                mutual_appearances[word] = count\n",
    "                appearances[word] = table2[word]\n",
    "            else:\n",
    "                mutual_appearances[word] = table2[word]\n",
    "                appearances[word] = count\n",
    "        else:\n",
    "            appearances[word] = count\n",
    "    # Fill in items that are only in table2.\n",
    "    for word, count in table2.items():\n",
    "        if word not in table1:\n",
    "            appearances[word] = count\n",
    "\n",
    "    mutual_appearances_count = sum(mutual_appearances.values())\n",
    "    appearances_count = sum(appearances.values())\n",
    "    total_appearances_count = mutual_appearances_count + appearances_count\n",
    "\n",
    "    # This could have also been calculated with the code below, leading to a 1.0\n",
    "    # score between two equal tables. However, with how the task was written, it did\n",
    "    # not really look like that was the plan. See below for a different implementation.\n",
    "    # single_side_mutual_appearances = sum(mutual_appearances.values())\n",
    "    # mutual_appearances_count = 2 * single_side_mutual_appearances\n",
    "    # other_appearances_count = sum(appearances.values()) - single_side_mutual_appearances\n",
    "    # total_appearances_count = mutual_appearances_count + other_appearances_count\n",
    "\n",
    "    return mutual_appearances_count / total_appearances_count\n",
    "\n",
    "\n",
    "# This example has in total 8 appearances, and 2 of them are mutual {\"c\":1, \"d\":1}.\n",
    "# Therefore, the result should be 2 / 8 = 0.25.\n",
    "table_a_1 = {\n",
    "    \"a\": 1,  # Only table_a_1.\n",
    "    \"c\": 2,  # Most frequent.\n",
    "    \"d\": 1   # Least frequent.\n",
    "}\n",
    "table_a_2 = {\n",
    "    \"b\": 1,  # Only table_a_2.\n",
    "    \"c\": 1,  # Least frequent.\n",
    "    \"d\": 2   # Most frequent.\n",
    "}\n",
    "print(frequency_comparison(table_a_1, table_a_2))\n",
    "\n",
    "# This example has in total 18 appearances, and 4 of them are mutual {\"a\":2, \"c\":2}).\n",
    "# Therefore, the result should be 4 / 18 = 0.222...\n",
    "table_b_1 = {\n",
    "    \"a\":2,  # Least frequent.\n",
    "    \"b\":2,  # Only table_b_1.\n",
    "    \"c\":2   # Least frequent.\n",
    "}\n",
    "table_b_2 = {\n",
    "    \"a\":4,  # Most frequent.\n",
    "    \"c\":4,  # Most frequent.\n",
    "    \"d\":2,  # Only in table_b_2.\n",
    "    \"e\":2   # Only in table_b_2.\n",
    "}\n",
    "print(str(frequency_comparison(table_b_1, table_b_2)))\n",
    "\n",
    "# This example uses the same table twice, so they should technically be equal,\n",
    "# i.e. have have a score of 1.0. However, given how the task was written, we only\n",
    "# get 0.5.\n",
    "table_c = {\n",
    "    \"a\": 1,\n",
    "    \"b\": 1,\n",
    "    \"c\": 2,\n",
    "    \"d\": 2\n",
    "}\n",
    "print(str(frequency_comparison(table_c, table_c)))\n",
    "\n",
    "\n",
    "# Another way of implementing a frequency comparison would be to not only store overlap\n",
    "# in |mutual_appearances|, but also only store the difference in count in |other_appearances|.\n",
    "# For example, if table1={\"a\": 3} and table2={\"a\": 2}, |mutual_appearances| could be\n",
    "# {\"a\": 2}, and |other_appearances| be {\"a\": 1}. This enables us to count the mutual appearances\n",
    "# twice, and the other appearances a single time, leading to a different scoring that is between\n",
    "# 0 for not mutual elements and 1 for all mutual elements, which fits better in the\n",
    "# find_text_similarity(...) method which should return a number between 0 and 1.\n",
    "# This also makes the calculations at the end of the function become a little simpler to\n",
    "# end up with a correct result.\n",
    "def frequency_comparison_2(table1, table2):\n",
    "    \"\"\"Returns a comparison of two frequency tables.\"\"\"\n",
    "    mutual_appearances = {}\n",
    "    other_appearances = {}\n",
    "    # Fill in all items from table1.\n",
    "    for word, count in table1.items():\n",
    "        if word in table2:  # A mutual appearance.\n",
    "            if count < table2[word]:  # Lowest value goes to mutual.\n",
    "                mutual_appearances[word] = count\n",
    "                # Subtract the mutual appearances.\n",
    "                other_appearances[word] = table2[word] - count\n",
    "            else:\n",
    "                mutual_appearances[word] = table2[word]\n",
    "                # Subtract the mutual appearances.\n",
    "                other_appearances[word] = count - table2[word]\n",
    "        else:\n",
    "            other_appearances[word] = count\n",
    "    # Fill in items that are only in table2.\n",
    "    for word, count in table2.items():\n",
    "        if word not in table1:\n",
    "            other_appearances[word] = count\n",
    "\n",
    "    # Mutual appearances must be counted twice, since they are in both tables.\n",
    "    mutual_appearances_count = 2 * sum(mutual_appearances.values())\n",
    "    other_appearances_count = sum(other_appearances.values())\n",
    "    total_appearances_count = mutual_appearances_count + other_appearances_count\n",
    "\n",
    "    return mutual_appearances_count / total_appearances_count\n",
    "\n",
    "# Should now be 0.5.\n",
    "print(frequency_comparison_2(table_a_1, table_a_2))\n",
    "# Should now be 0.444...\n",
    "print(str(frequency_comparison_2(table_b_1, table_b_2)))\n",
    "# Should now be 1.0.\n",
    "print(str(frequency_comparison_2(table_c, table_c)))"
   ]
  },
  {
   "cell_type": "markdown",
   "metadata": {},
   "source": [
    "## Comparing Average Sentence Length\n",
    "\n",
    "In order to calculate the change between the average sentence lengths of two `TextSamples` we're going to use the formula for the percent difference.\n",
    "\n",
    "Write a function called `percent_difference` that returns the percent difference as calculated from the following formula:\n",
    "\n",
    "$$\\frac{|\\ value1 - value2\\ |}{\\frac{value1 + value2}{2}}$$\n",
    "\n",
    "In the numerator is the absolute value (use `abs()`) of the two values subtracted from each other. In the denominator is the average of the two values (value1 + value2 divided by two)."
   ]
  },
  {
   "cell_type": "code",
   "execution_count": 47,
   "metadata": {},
   "outputs": [
    {
     "name": "stdout",
     "output_type": "stream",
     "text": [
      "0.2\n"
     ]
    }
   ],
   "source": [
    "def percent_difference(value1, value2):\n",
    "    \"\"\"Returns the percent difference between to non-negative numbers.\"\"\"\n",
    "    # It is important to have parenthesises around the whole denominator here,\n",
    "    # otherwise the result of the math calculation will be very wrong.\n",
    "    return abs(value1-value2)/((value1+value2)/2)\n",
    "\n",
    "\n",
    "# Absolute value of 9-11 = 2, and the average of 9 and 11 is, 10, so this should yield 0.2.\n",
    "print(percent_difference(9, 11))\n",
    "\n",
    "# Note, the implementation above only safely supports positive numbers.\n",
    "# One unsafe example for negative numbers is commented out below:\n",
    "# print(percent_difference(-5, 5))"
   ]
  },
  {
   "cell_type": "markdown",
   "metadata": {},
   "source": [
    "## Scoring Similarity with All Three Indicators\n",
    "\n",
    "We want to figure out who did it, so let's use all three of the indicators we built to score text similarity. Define a function `find_text_similarity` that takes two `TextSample` arguments and returns a float between 0 and 1 where 0 means completely different and 1 means the same exact sample. You can evaluate the similarity by the following criteria:\n",
    "\n",
    "- Calculate the percent difference of their average sentence length using `percent_difference`. Save that into a variable called `sentence_length_difference`. Since we want to find how _similar_ the two passages are calculate the inverse of `sentence_length_difference` by using the formula `abs(1 - sentence_length_difference)`. Save that into a variable called `sentence_length_similarity`.\n",
    "- Calculate the difference between their word usage using `frequency_comparison` on both `TextSample`'s `word_count_frequency` attributes. Save that into a variable called `word_count_similarity`.\n",
    "- Calculate the difference between their two-word ngram using `frequency_table` on both `TextSample`'s `ngram_frequency` attributes. Save that into a variable called `ngram_similarity`.\n",
    "- Add all three similarities together and divide by 3."
   ]
  },
  {
   "cell_type": "code",
   "execution_count": 48,
   "metadata": {},
   "outputs": [],
   "source": [
    "def find_text_similarity_generic(sample1, sample2, frequency_comparison_function):\n",
    "    \"\"\"Returns the similarity of the two samples as the\n",
    "    average of three different similarity scores, equally weighted.\n",
    "    This takes a function pointer for the frequency_comparison function, since it has two implementations.\"\"\"\n",
    "    sentence_length_difference = percent_difference(sample1.average_sentence_length, sample2.average_sentence_length)\n",
    "    sentence_length_similarity = abs(1 - sentence_length_difference)\n",
    "    word_count_similarity = frequency_comparison_function(sample1.word_count_frequency, sample2.word_count_frequency)\n",
    "    ngram_similarity = frequency_comparison_function(sample1.ngram_frequency, sample2.ngram_frequency)\n",
    "    return (sentence_length_similarity + word_count_similarity + ngram_similarity) / 3\n",
    "\n",
    "# Default implementation to satisfy the given task.\n",
    "def find_text_similarity(sample1, sample2):\n",
    "    \"\"\"Returns the similarity of the two samples as the\n",
    "    average of three different similarity scores, equally weighted.\"\"\"\n",
    "    return find_text_similarity_generic(sample1, sample2, frequency_comparison)"
   ]
  },
  {
   "cell_type": "markdown",
   "metadata": {},
   "source": [
    "## Rendering the Results\n",
    "\n",
    "We want to print out the results in a way that we can read! For each contestant on _A Brand New Jay_ print out the following:\n",
    "\n",
    "- Their name\n",
    "- Their similarity score to the murder letter"
   ]
  },
  {
   "cell_type": "code",
   "execution_count": 49,
   "metadata": {
    "scrolled": false
   },
   "outputs": [
    {
     "name": "stdout",
     "output_type": "stream",
     "text": [
      "Below are the results when using the default frequency comparison function:\n",
      "Gregg T Fishy has similarity score 0.37426395544248886\n",
      "Lily Trebuchet has similarity score 0.3046208343893449\n",
      "Myrtle Beech has similarity score 0.07231097494255392\n",
      "\n",
      "Below are the results when using the other frequency comparison function:\n",
      "Gregg T Fishy has similarity score 0.42698038334206195\n",
      "Lily Trebuchet has similarity score 0.3853739654589317\n",
      "Myrtle Beech has similarity score 0.12360787623945522\n"
     ]
    }
   ],
   "source": [
    "class SimilarityResult(object):\n",
    "    def __init__(self, sample, similarity_score):\n",
    "        self.sample = sample\n",
    "        self.similarity_score = similarity_score\n",
    "\n",
    "\n",
    "def get_results(samples, frequency_comparison_function):\n",
    "    \"\"\"Compares the list of samples with the |murder_sample|,\n",
    "    and returns an ordered list of results, best match first.\"\"\"\n",
    "    results = []\n",
    "    for sample in samples:\n",
    "        similarity_score = find_text_similarity_generic(murder_sample, sample, frequency_comparison_function)\n",
    "        result = SimilarityResult(sample, similarity_score)\n",
    "        results.append(result)\n",
    "    # Sort result by the score, highest value first.\n",
    "    return sorted(results, reverse=True, key=lambda result: result.similarity_score)\n",
    "\n",
    "print(\"Below are the results when using the default frequency comparison function:\")\n",
    "for result in get_results([lily_sample, myrtle_sample, gregg_sample], frequency_comparison):\n",
    "    print(\"{} has similarity score {}\".format(result.sample.author, result.similarity_score))\n",
    "\n",
    "\n",
    "print(\"\\nBelow are the results when using the other frequency comparison function:\")\n",
    "for result in get_results([lily_sample, myrtle_sample, gregg_sample], frequency_comparison_2):\n",
    "    print(\"{} has similarity score {}\".format(result.sample.author, result.similarity_score))"
   ]
  },
  {
   "cell_type": "markdown",
   "metadata": {},
   "source": [
    "# Who Dunnit?\n",
    "\n",
    "In the cell below, print the name of the person who killed Jay Stacksby."
   ]
  },
  {
   "cell_type": "code",
   "execution_count": 50,
   "metadata": {},
   "outputs": [
    {
     "name": "stdout",
     "output_type": "stream",
     "text": [
      "The murderer is Gregg T Fishy\n"
     ]
    }
   ],
   "source": [
    "all_results = get_results([lily_sample, myrtle_sample, gregg_sample], frequency_comparison)\n",
    "murderer_result = all_results[0]  # Top similarity score using default frequencty comparison.\n",
    "\n",
    "print(\"The murderer is {}\".format(murderer_result.sample.author))"
   ]
  }
 ],
 "metadata": {
  "kernelspec": {
   "display_name": "Python 3",
   "language": "python",
   "name": "python3"
  },
  "language_info": {
   "codemirror_mode": {
    "name": "ipython",
    "version": 3
   },
   "file_extension": ".py",
   "mimetype": "text/x-python",
   "name": "python",
   "nbconvert_exporter": "python",
   "pygments_lexer": "ipython3",
   "version": "3.5.3"
  }
 },
 "nbformat": 4,
 "nbformat_minor": 2
}
